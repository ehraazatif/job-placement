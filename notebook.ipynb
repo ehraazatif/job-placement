{
 "cells": [
  {
   "cell_type": "markdown",
   "id": "a8bd5edf-65c4-41f6-8e1b-f4aee9c4d5b2",
   "metadata": {},
   "source": [
    "<h1> Job Placement </h1>"
   ]
  },
  {
   "cell_type": "code",
   "execution_count": 1,
   "id": "69728559-9d54-40e8-a5e2-9416d7fa0343",
   "metadata": {},
   "outputs": [],
   "source": [
    "import pandas as pd\n",
    "import matplotlib.pyplot as pt\n",
    "from sklearn.tree import DecisionTreeClassifier\n",
    "from sklearn.model_selection import train_test_split\n",
    "from sklearn.metrics import confusion_matrix\n",
    "import pickle"
   ]
  },
  {
   "cell_type": "code",
   "execution_count": 2,
   "id": "941c8a9b-d1ef-4ae1-940f-4f116b2701bb",
   "metadata": {},
   "outputs": [
    {
     "data": {
      "text/html": [
       "<div>\n",
       "<style scoped>\n",
       "    .dataframe tbody tr th:only-of-type {\n",
       "        vertical-align: middle;\n",
       "    }\n",
       "\n",
       "    .dataframe tbody tr th {\n",
       "        vertical-align: top;\n",
       "    }\n",
       "\n",
       "    .dataframe thead th {\n",
       "        text-align: right;\n",
       "    }\n",
       "</style>\n",
       "<table border=\"1\" class=\"dataframe\">\n",
       "  <thead>\n",
       "    <tr style=\"text-align: right;\">\n",
       "      <th></th>\n",
       "      <th>gender</th>\n",
       "      <th>ssc_percentage</th>\n",
       "      <th>ssc_board</th>\n",
       "      <th>hsc_percentage</th>\n",
       "      <th>hsc_board</th>\n",
       "      <th>hsc_subject</th>\n",
       "      <th>degree_percentage</th>\n",
       "      <th>undergrad_degree</th>\n",
       "      <th>work_experience</th>\n",
       "      <th>emp_test_percentage</th>\n",
       "      <th>specialisation</th>\n",
       "      <th>mba_percent</th>\n",
       "      <th>status</th>\n",
       "    </tr>\n",
       "  </thead>\n",
       "  <tbody>\n",
       "    <tr>\n",
       "      <th>0</th>\n",
       "      <td>M</td>\n",
       "      <td>67.00</td>\n",
       "      <td>Others</td>\n",
       "      <td>91.00</td>\n",
       "      <td>Others</td>\n",
       "      <td>Commerce</td>\n",
       "      <td>58.00</td>\n",
       "      <td>Sci&amp;Tech</td>\n",
       "      <td>No</td>\n",
       "      <td>55.0</td>\n",
       "      <td>Mkt&amp;HR</td>\n",
       "      <td>58.80</td>\n",
       "      <td>Placed</td>\n",
       "    </tr>\n",
       "    <tr>\n",
       "      <th>1</th>\n",
       "      <td>M</td>\n",
       "      <td>79.33</td>\n",
       "      <td>Central</td>\n",
       "      <td>78.33</td>\n",
       "      <td>Others</td>\n",
       "      <td>Science</td>\n",
       "      <td>77.48</td>\n",
       "      <td>Sci&amp;Tech</td>\n",
       "      <td>Yes</td>\n",
       "      <td>86.5</td>\n",
       "      <td>Mkt&amp;Fin</td>\n",
       "      <td>66.28</td>\n",
       "      <td>Placed</td>\n",
       "    </tr>\n",
       "    <tr>\n",
       "      <th>2</th>\n",
       "      <td>M</td>\n",
       "      <td>65.00</td>\n",
       "      <td>Central</td>\n",
       "      <td>68.00</td>\n",
       "      <td>Central</td>\n",
       "      <td>Arts</td>\n",
       "      <td>64.00</td>\n",
       "      <td>Comm&amp;Mgmt</td>\n",
       "      <td>No</td>\n",
       "      <td>75.0</td>\n",
       "      <td>Mkt&amp;Fin</td>\n",
       "      <td>57.80</td>\n",
       "      <td>Placed</td>\n",
       "    </tr>\n",
       "    <tr>\n",
       "      <th>3</th>\n",
       "      <td>M</td>\n",
       "      <td>56.00</td>\n",
       "      <td>Central</td>\n",
       "      <td>52.00</td>\n",
       "      <td>Central</td>\n",
       "      <td>Science</td>\n",
       "      <td>52.00</td>\n",
       "      <td>Sci&amp;Tech</td>\n",
       "      <td>No</td>\n",
       "      <td>66.0</td>\n",
       "      <td>Mkt&amp;HR</td>\n",
       "      <td>59.43</td>\n",
       "      <td>Not Placed</td>\n",
       "    </tr>\n",
       "    <tr>\n",
       "      <th>4</th>\n",
       "      <td>M</td>\n",
       "      <td>85.80</td>\n",
       "      <td>Central</td>\n",
       "      <td>73.60</td>\n",
       "      <td>Central</td>\n",
       "      <td>Commerce</td>\n",
       "      <td>73.30</td>\n",
       "      <td>Comm&amp;Mgmt</td>\n",
       "      <td>No</td>\n",
       "      <td>96.8</td>\n",
       "      <td>Mkt&amp;Fin</td>\n",
       "      <td>55.50</td>\n",
       "      <td>Placed</td>\n",
       "    </tr>\n",
       "    <tr>\n",
       "      <th>...</th>\n",
       "      <td>...</td>\n",
       "      <td>...</td>\n",
       "      <td>...</td>\n",
       "      <td>...</td>\n",
       "      <td>...</td>\n",
       "      <td>...</td>\n",
       "      <td>...</td>\n",
       "      <td>...</td>\n",
       "      <td>...</td>\n",
       "      <td>...</td>\n",
       "      <td>...</td>\n",
       "      <td>...</td>\n",
       "      <td>...</td>\n",
       "    </tr>\n",
       "    <tr>\n",
       "      <th>210</th>\n",
       "      <td>M</td>\n",
       "      <td>80.60</td>\n",
       "      <td>Others</td>\n",
       "      <td>82.00</td>\n",
       "      <td>Others</td>\n",
       "      <td>Commerce</td>\n",
       "      <td>77.60</td>\n",
       "      <td>Comm&amp;Mgmt</td>\n",
       "      <td>No</td>\n",
       "      <td>91.0</td>\n",
       "      <td>Mkt&amp;Fin</td>\n",
       "      <td>74.49</td>\n",
       "      <td>Placed</td>\n",
       "    </tr>\n",
       "    <tr>\n",
       "      <th>211</th>\n",
       "      <td>M</td>\n",
       "      <td>58.00</td>\n",
       "      <td>Others</td>\n",
       "      <td>60.00</td>\n",
       "      <td>Others</td>\n",
       "      <td>Science</td>\n",
       "      <td>72.00</td>\n",
       "      <td>Sci&amp;Tech</td>\n",
       "      <td>No</td>\n",
       "      <td>74.0</td>\n",
       "      <td>Mkt&amp;Fin</td>\n",
       "      <td>53.62</td>\n",
       "      <td>Placed</td>\n",
       "    </tr>\n",
       "    <tr>\n",
       "      <th>212</th>\n",
       "      <td>M</td>\n",
       "      <td>67.00</td>\n",
       "      <td>Others</td>\n",
       "      <td>67.00</td>\n",
       "      <td>Others</td>\n",
       "      <td>Commerce</td>\n",
       "      <td>73.00</td>\n",
       "      <td>Comm&amp;Mgmt</td>\n",
       "      <td>Yes</td>\n",
       "      <td>59.0</td>\n",
       "      <td>Mkt&amp;Fin</td>\n",
       "      <td>69.72</td>\n",
       "      <td>Placed</td>\n",
       "    </tr>\n",
       "    <tr>\n",
       "      <th>213</th>\n",
       "      <td>F</td>\n",
       "      <td>74.00</td>\n",
       "      <td>Others</td>\n",
       "      <td>66.00</td>\n",
       "      <td>Others</td>\n",
       "      <td>Commerce</td>\n",
       "      <td>58.00</td>\n",
       "      <td>Comm&amp;Mgmt</td>\n",
       "      <td>No</td>\n",
       "      <td>70.0</td>\n",
       "      <td>Mkt&amp;HR</td>\n",
       "      <td>60.23</td>\n",
       "      <td>Placed</td>\n",
       "    </tr>\n",
       "    <tr>\n",
       "      <th>214</th>\n",
       "      <td>M</td>\n",
       "      <td>62.00</td>\n",
       "      <td>Central</td>\n",
       "      <td>58.00</td>\n",
       "      <td>Others</td>\n",
       "      <td>Science</td>\n",
       "      <td>53.00</td>\n",
       "      <td>Comm&amp;Mgmt</td>\n",
       "      <td>No</td>\n",
       "      <td>89.0</td>\n",
       "      <td>Mkt&amp;HR</td>\n",
       "      <td>60.22</td>\n",
       "      <td>Not Placed</td>\n",
       "    </tr>\n",
       "  </tbody>\n",
       "</table>\n",
       "<p>215 rows × 13 columns</p>\n",
       "</div>"
      ],
      "text/plain": [
       "    gender  ssc_percentage ssc_board  hsc_percentage hsc_board hsc_subject  \\\n",
       "0        M           67.00    Others           91.00    Others    Commerce   \n",
       "1        M           79.33   Central           78.33    Others     Science   \n",
       "2        M           65.00   Central           68.00   Central        Arts   \n",
       "3        M           56.00   Central           52.00   Central     Science   \n",
       "4        M           85.80   Central           73.60   Central    Commerce   \n",
       "..     ...             ...       ...             ...       ...         ...   \n",
       "210      M           80.60    Others           82.00    Others    Commerce   \n",
       "211      M           58.00    Others           60.00    Others     Science   \n",
       "212      M           67.00    Others           67.00    Others    Commerce   \n",
       "213      F           74.00    Others           66.00    Others    Commerce   \n",
       "214      M           62.00   Central           58.00    Others     Science   \n",
       "\n",
       "     degree_percentage undergrad_degree work_experience  emp_test_percentage  \\\n",
       "0                58.00         Sci&Tech              No                 55.0   \n",
       "1                77.48         Sci&Tech             Yes                 86.5   \n",
       "2                64.00        Comm&Mgmt              No                 75.0   \n",
       "3                52.00         Sci&Tech              No                 66.0   \n",
       "4                73.30        Comm&Mgmt              No                 96.8   \n",
       "..                 ...              ...             ...                  ...   \n",
       "210              77.60        Comm&Mgmt              No                 91.0   \n",
       "211              72.00         Sci&Tech              No                 74.0   \n",
       "212              73.00        Comm&Mgmt             Yes                 59.0   \n",
       "213              58.00        Comm&Mgmt              No                 70.0   \n",
       "214              53.00        Comm&Mgmt              No                 89.0   \n",
       "\n",
       "    specialisation  mba_percent      status  \n",
       "0           Mkt&HR        58.80      Placed  \n",
       "1          Mkt&Fin        66.28      Placed  \n",
       "2          Mkt&Fin        57.80      Placed  \n",
       "3           Mkt&HR        59.43  Not Placed  \n",
       "4          Mkt&Fin        55.50      Placed  \n",
       "..             ...          ...         ...  \n",
       "210        Mkt&Fin        74.49      Placed  \n",
       "211        Mkt&Fin        53.62      Placed  \n",
       "212        Mkt&Fin        69.72      Placed  \n",
       "213         Mkt&HR        60.23      Placed  \n",
       "214         Mkt&HR        60.22  Not Placed  \n",
       "\n",
       "[215 rows x 13 columns]"
      ]
     },
     "execution_count": 2,
     "metadata": {},
     "output_type": "execute_result"
    }
   ],
   "source": [
    "df = pd.read_csv('Job_Placement_Data.csv')\n",
    "df"
   ]
  },
  {
   "cell_type": "markdown",
   "id": "d4a1c327-8fae-4ace-8e52-8dc65f6a06fc",
   "metadata": {},
   "source": [
    "Data Dictionary</br>\n",
    "gender : Gender of the candidate</br>\n",
    "ssc_percentage : Senior secondary exams percentage (10th Grade)</br>\n",
    "ssc_board : Board of education for ssc exams</br>\n",
    "hsc_percentage : Higher secondary exams percentage (12th Grade)</br>\n",
    "hsc_borad : Board of education for hsc exams</br>\n",
    "hsc_subject : Subject of study for hsc</br>\n",
    "degree_percentage : Percentage of marks in undergrad degree</br>\n",
    "undergrad_degree : Undergrad degree majors</br>\n",
    "work_experience : Past work experience</br>\n",
    "emp_test_percentage : Aptitude test percentage</br>\n",
    "specialization : Postgrad degree majors - (MBA specialization)</br>\n",
    "mba_percent : Percentage of marks in MBA degree</br>\n",
    "status (TARGET) : Status of placement. Placed / Not Placed</br>"
   ]
  },
  {
   "cell_type": "markdown",
   "id": "acf25aaa-b71d-4bb7-94fa-76dceb52c527",
   "metadata": {},
   "source": [
    "<h2> Cleaning and Preparation </h2>"
   ]
  },
  {
   "cell_type": "code",
   "execution_count": 3,
   "id": "99b19de2-fa3a-4535-8dbf-664664788d34",
   "metadata": {},
   "outputs": [
    {
     "name": "stdout",
     "output_type": "stream",
     "text": [
      "<class 'pandas.core.frame.DataFrame'>\n",
      "RangeIndex: 215 entries, 0 to 214\n",
      "Data columns (total 13 columns):\n",
      " #   Column               Non-Null Count  Dtype  \n",
      "---  ------               --------------  -----  \n",
      " 0   gender               215 non-null    object \n",
      " 1   ssc_percentage       215 non-null    float64\n",
      " 2   ssc_board            215 non-null    object \n",
      " 3   hsc_percentage       215 non-null    float64\n",
      " 4   hsc_board            215 non-null    object \n",
      " 5   hsc_subject          215 non-null    object \n",
      " 6   degree_percentage    215 non-null    float64\n",
      " 7   undergrad_degree     215 non-null    object \n",
      " 8   work_experience      215 non-null    object \n",
      " 9   emp_test_percentage  215 non-null    float64\n",
      " 10  specialisation       215 non-null    object \n",
      " 11  mba_percent          215 non-null    float64\n",
      " 12  status               215 non-null    object \n",
      "dtypes: float64(5), object(8)\n",
      "memory usage: 22.0+ KB\n"
     ]
    }
   ],
   "source": [
    "# lets get an overlook of the data\n",
    "df.info()"
   ]
  },
  {
   "cell_type": "markdown",
   "id": "8438e6fc-e110-42ab-8aea-04ad79e1a5a2",
   "metadata": {},
   "source": [
    "First, let's turn the object variables into numerical-categorical variables so that we can actually work with them."
   ]
  },
  {
   "cell_type": "code",
   "execution_count": 4,
   "id": "e9d412b7-fdf7-4f1d-b2dd-fca12c5bcdcf",
   "metadata": {},
   "outputs": [
    {
     "name": "stdout",
     "output_type": "stream",
     "text": [
      "['M' 'F'] ['Others' 'Central'] ['Others' 'Central'] ['Commerce' 'Science' 'Arts'] ['Sci&Tech' 'Comm&Mgmt' 'Others'] ['No' 'Yes'] ['Mkt&HR' 'Mkt&Fin'] ['Placed' 'Not Placed']\n"
     ]
    }
   ],
   "source": [
    "# get the unique 'levels' for each object-type feature\n",
    "print(\n",
    "    df['gender'].unique(),\n",
    "    df['ssc_board'].unique(),\n",
    "    df['hsc_board'].unique(),\n",
    "    df['hsc_subject'].unique(),\n",
    "    df['undergrad_degree'].unique(),\n",
    "    df['work_experience'].unique(),\n",
    "    df['specialisation'].unique(),\n",
    "    df['status'].unique()\n",
    "     )"
   ]
  },
  {
   "cell_type": "code",
   "execution_count": 5,
   "id": "ab5a2131-3d49-4aeb-94dc-738e28d31c2d",
   "metadata": {},
   "outputs": [
    {
     "name": "stdout",
     "output_type": "stream",
     "text": [
      "M    139\n",
      "F     76\n",
      "Name: gender, dtype: int64 \n",
      " Central    116\n",
      "Others      99\n",
      "Name: ssc_board, dtype: int64 \n",
      " Others     131\n",
      "Central     84\n",
      "Name: hsc_board, dtype: int64 \n",
      " Commerce    113\n",
      "Science      91\n",
      "Arts         11\n",
      "Name: hsc_subject, dtype: int64 \n",
      " Comm&Mgmt    145\n",
      "Sci&Tech      59\n",
      "Others        11\n",
      "Name: undergrad_degree, dtype: int64 \n",
      " No     141\n",
      "Yes     74\n",
      "Name: work_experience, dtype: int64 \n",
      " Mkt&Fin    120\n",
      "Mkt&HR      95\n",
      "Name: specialisation, dtype: int64 \n",
      " Placed        148\n",
      "Not Placed     67\n",
      "Name: status, dtype: int64\n"
     ]
    }
   ],
   "source": [
    "# let's get the counts for each value so when we turn the categoricals into mumericals, we know the proportions stay the same\n",
    "print(\n",
    "    df['gender'].value_counts(), '\\n',\n",
    "    df['ssc_board'].value_counts(), '\\n',\n",
    "    df['hsc_board'].value_counts(), '\\n',\n",
    "    df['hsc_subject'].value_counts(), '\\n',\n",
    "    df['undergrad_degree'].value_counts(), '\\n',\n",
    "    df['work_experience'].value_counts(), '\\n',\n",
    "    df['specialisation'].value_counts(), '\\n',\n",
    "    df['status'].value_counts()\n",
    "     )"
   ]
  },
  {
   "cell_type": "code",
   "execution_count": 6,
   "id": "e157bb5e-0f73-43f5-9cb7-98001ef0e7e7",
   "metadata": {},
   "outputs": [],
   "source": [
    "# noe let's turn the strings into numerical categories\n",
    "df['gender'] = df['gender'].apply(lambda x: 0 if x == 'M' else 1)\n",
    "df['ssc_board'] = df['ssc_board'].apply(lambda x: 0 if x == 'Others' else 1)\n",
    "df['hsc_board'] = df['hsc_board'].apply(lambda x: 0 if x == 'Others' else 1)\n",
    "df['hsc_subject'] = df['hsc_subject'].apply(lambda x: 0 if x == 'Commerce' else 1 if x == 'Science' else 2)\n",
    "df['undergrad_degree'] = df['undergrad_degree'].apply(lambda x: 0 if x == 'Sci&Tech' else 1 if x == 'Comm&Mgmt' else 2)\n",
    "df['work_experience'] = df['work_experience'].apply(lambda x: 0 if x == 'No' else 1)\n",
    "df['specialisation'] = df['specialisation'].apply(lambda x: 0 if x == 'Mkt&HR' else 1)\n",
    "df['status'] = df['status'].apply(lambda x: 0 if x == 'Placed' else 1)"
   ]
  },
  {
   "cell_type": "code",
   "execution_count": 7,
   "id": "8adf5921-5078-42cc-a9a7-ac1880b34458",
   "metadata": {},
   "outputs": [
    {
     "name": "stdout",
     "output_type": "stream",
     "text": [
      "0    139\n",
      "1     76\n",
      "Name: gender, dtype: int64 \n",
      " 1    116\n",
      "0     99\n",
      "Name: ssc_board, dtype: int64 \n",
      " 0    131\n",
      "1     84\n",
      "Name: hsc_board, dtype: int64 \n",
      " 0    113\n",
      "1     91\n",
      "2     11\n",
      "Name: hsc_subject, dtype: int64 \n",
      " 1    145\n",
      "0     59\n",
      "2     11\n",
      "Name: undergrad_degree, dtype: int64 \n",
      " 0    141\n",
      "1     74\n",
      "Name: work_experience, dtype: int64 \n",
      " 1    120\n",
      "0     95\n",
      "Name: specialisation, dtype: int64 \n",
      " 0    148\n",
      "1     67\n",
      "Name: status, dtype: int64\n"
     ]
    }
   ],
   "source": [
    "# make sure nothing went wrong\n",
    "print(\n",
    "    df['gender'].value_counts(), '\\n',\n",
    "    df['ssc_board'].value_counts(), '\\n',\n",
    "    df['hsc_board'].value_counts(), '\\n',\n",
    "    df['hsc_subject'].value_counts(), '\\n',\n",
    "    df['undergrad_degree'].value_counts(), '\\n',\n",
    "    df['work_experience'].value_counts(), '\\n',\n",
    "    df['specialisation'].value_counts(), '\\n',\n",
    "    df['status'].value_counts()\n",
    "     )"
   ]
  },
  {
   "cell_type": "markdown",
   "id": "d1372d81-5477-4e1f-bfc1-b780575e8bc1",
   "metadata": {},
   "source": [
    "Everything looks good; now let's check out df again."
   ]
  },
  {
   "cell_type": "code",
   "execution_count": 8,
   "id": "9e29afb1-2dbf-4641-b5c3-2d5a340dcf1c",
   "metadata": {},
   "outputs": [
    {
     "name": "stdout",
     "output_type": "stream",
     "text": [
      "<class 'pandas.core.frame.DataFrame'>\n",
      "RangeIndex: 215 entries, 0 to 214\n",
      "Data columns (total 13 columns):\n",
      " #   Column               Non-Null Count  Dtype  \n",
      "---  ------               --------------  -----  \n",
      " 0   gender               215 non-null    int64  \n",
      " 1   ssc_percentage       215 non-null    float64\n",
      " 2   ssc_board            215 non-null    int64  \n",
      " 3   hsc_percentage       215 non-null    float64\n",
      " 4   hsc_board            215 non-null    int64  \n",
      " 5   hsc_subject          215 non-null    int64  \n",
      " 6   degree_percentage    215 non-null    float64\n",
      " 7   undergrad_degree     215 non-null    int64  \n",
      " 8   work_experience      215 non-null    int64  \n",
      " 9   emp_test_percentage  215 non-null    float64\n",
      " 10  specialisation       215 non-null    int64  \n",
      " 11  mba_percent          215 non-null    float64\n",
      " 12  status               215 non-null    int64  \n",
      "dtypes: float64(5), int64(8)\n",
      "memory usage: 22.0 KB\n"
     ]
    }
   ],
   "source": [
    "df.info()"
   ]
  },
  {
   "cell_type": "code",
   "execution_count": 9,
   "id": "a0572912-9409-4b26-967a-e16f092b4f01",
   "metadata": {},
   "outputs": [],
   "source": [
    "df.to_csv('data_categorical.csv', index=False) # save the categorical version of the dataset"
   ]
  },
  {
   "cell_type": "code",
   "execution_count": 10,
   "id": "adc70ebb-c58f-4982-bb17-5ee31d9e549a",
   "metadata": {},
   "outputs": [
    {
     "data": {
      "text/plain": [
       "array([[<AxesSubplot: title={'center': 'gender'}>,\n",
       "        <AxesSubplot: title={'center': 'ssc_percentage'}>,\n",
       "        <AxesSubplot: title={'center': 'ssc_board'}>,\n",
       "        <AxesSubplot: title={'center': 'hsc_percentage'}>],\n",
       "       [<AxesSubplot: title={'center': 'hsc_board'}>,\n",
       "        <AxesSubplot: title={'center': 'hsc_subject'}>,\n",
       "        <AxesSubplot: title={'center': 'degree_percentage'}>,\n",
       "        <AxesSubplot: title={'center': 'undergrad_degree'}>],\n",
       "       [<AxesSubplot: title={'center': 'work_experience'}>,\n",
       "        <AxesSubplot: title={'center': 'emp_test_percentage'}>,\n",
       "        <AxesSubplot: title={'center': 'specialisation'}>,\n",
       "        <AxesSubplot: title={'center': 'mba_percent'}>],\n",
       "       [<AxesSubplot: title={'center': 'status'}>, <AxesSubplot: >,\n",
       "        <AxesSubplot: >, <AxesSubplot: >]], dtype=object)"
      ]
     },
     "execution_count": 10,
     "metadata": {},
     "output_type": "execute_result"
    },
    {
     "data": {
      "image/png": "[encoded data removed]",
      "text/plain": [
       "<Figure size 640x480 with 16 Axes>"
      ]
     },
     "metadata": {},
     "output_type": "display_data"
    }
   ],
   "source": [
    "# now let's look at histograms of the variables to look for any skewness\n",
    "df.hist()"
   ]
  },
  {
   "cell_type": "markdown",
   "id": "b5f8d1e6-101d-4b25-b0a1-c25a517fa5db",
   "metadata": {},
   "source": [
    "The skewed variables seem to be gender, hsc_board, hsc_subject, undergrad_degree, work_experience, and status."
   ]
  },
  {
   "cell_type": "code",
   "execution_count": 11,
   "id": "41593a3e-8feb-4bf2-9134-572a85679aea",
   "metadata": {},
   "outputs": [
    {
     "data": {
      "text/html": [
       "<div>\n",
       "<style scoped>\n",
       "    .dataframe tbody tr th:only-of-type {\n",
       "        vertical-align: middle;\n",
       "    }\n",
       "\n",
       "    .dataframe tbody tr th {\n",
       "        vertical-align: top;\n",
       "    }\n",
       "\n",
       "    .dataframe thead th {\n",
       "        text-align: right;\n",
       "    }\n",
       "</style>\n",
       "<table border=\"1\" class=\"dataframe\">\n",
       "  <thead>\n",
       "    <tr style=\"text-align: right;\">\n",
       "      <th></th>\n",
       "      <th>gender</th>\n",
       "      <th>ssc_percentage</th>\n",
       "      <th>ssc_board</th>\n",
       "      <th>hsc_percentage</th>\n",
       "      <th>hsc_board</th>\n",
       "      <th>hsc_subject</th>\n",
       "      <th>degree_percentage</th>\n",
       "      <th>undergrad_degree</th>\n",
       "      <th>work_experience</th>\n",
       "      <th>emp_test_percentage</th>\n",
       "      <th>specialisation</th>\n",
       "      <th>mba_percent</th>\n",
       "      <th>status</th>\n",
       "    </tr>\n",
       "  </thead>\n",
       "  <tbody>\n",
       "    <tr>\n",
       "      <th>0</th>\n",
       "      <td>0</td>\n",
       "      <td>67.00</td>\n",
       "      <td>0</td>\n",
       "      <td>91.00</td>\n",
       "      <td>0</td>\n",
       "      <td>0</td>\n",
       "      <td>58.00</td>\n",
       "      <td>0</td>\n",
       "      <td>0</td>\n",
       "      <td>55.0</td>\n",
       "      <td>0</td>\n",
       "      <td>58.80</td>\n",
       "      <td>0</td>\n",
       "    </tr>\n",
       "    <tr>\n",
       "      <th>1</th>\n",
       "      <td>0</td>\n",
       "      <td>79.33</td>\n",
       "      <td>1</td>\n",
       "      <td>78.33</td>\n",
       "      <td>0</td>\n",
       "      <td>1</td>\n",
       "      <td>77.48</td>\n",
       "      <td>0</td>\n",
       "      <td>1</td>\n",
       "      <td>86.5</td>\n",
       "      <td>1</td>\n",
       "      <td>66.28</td>\n",
       "      <td>0</td>\n",
       "    </tr>\n",
       "    <tr>\n",
       "      <th>2</th>\n",
       "      <td>0</td>\n",
       "      <td>65.00</td>\n",
       "      <td>1</td>\n",
       "      <td>68.00</td>\n",
       "      <td>1</td>\n",
       "      <td>2</td>\n",
       "      <td>64.00</td>\n",
       "      <td>1</td>\n",
       "      <td>0</td>\n",
       "      <td>75.0</td>\n",
       "      <td>1</td>\n",
       "      <td>57.80</td>\n",
       "      <td>0</td>\n",
       "    </tr>\n",
       "    <tr>\n",
       "      <th>3</th>\n",
       "      <td>0</td>\n",
       "      <td>56.00</td>\n",
       "      <td>1</td>\n",
       "      <td>52.00</td>\n",
       "      <td>1</td>\n",
       "      <td>1</td>\n",
       "      <td>52.00</td>\n",
       "      <td>0</td>\n",
       "      <td>0</td>\n",
       "      <td>66.0</td>\n",
       "      <td>0</td>\n",
       "      <td>59.43</td>\n",
       "      <td>1</td>\n",
       "    </tr>\n",
       "    <tr>\n",
       "      <th>4</th>\n",
       "      <td>0</td>\n",
       "      <td>85.80</td>\n",
       "      <td>1</td>\n",
       "      <td>73.60</td>\n",
       "      <td>1</td>\n",
       "      <td>0</td>\n",
       "      <td>73.30</td>\n",
       "      <td>1</td>\n",
       "      <td>0</td>\n",
       "      <td>96.8</td>\n",
       "      <td>1</td>\n",
       "      <td>55.50</td>\n",
       "      <td>0</td>\n",
       "    </tr>\n",
       "    <tr>\n",
       "      <th>...</th>\n",
       "      <td>...</td>\n",
       "      <td>...</td>\n",
       "      <td>...</td>\n",
       "      <td>...</td>\n",
       "      <td>...</td>\n",
       "      <td>...</td>\n",
       "      <td>...</td>\n",
       "      <td>...</td>\n",
       "      <td>...</td>\n",
       "      <td>...</td>\n",
       "      <td>...</td>\n",
       "      <td>...</td>\n",
       "      <td>...</td>\n",
       "    </tr>\n",
       "    <tr>\n",
       "      <th>210</th>\n",
       "      <td>0</td>\n",
       "      <td>80.60</td>\n",
       "      <td>0</td>\n",
       "      <td>82.00</td>\n",
       "      <td>0</td>\n",
       "      <td>0</td>\n",
       "      <td>77.60</td>\n",
       "      <td>1</td>\n",
       "      <td>0</td>\n",
       "      <td>91.0</td>\n",
       "      <td>1</td>\n",
       "      <td>74.49</td>\n",
       "      <td>0</td>\n",
       "    </tr>\n",
       "    <tr>\n",
       "      <th>211</th>\n",
       "      <td>0</td>\n",
       "      <td>58.00</td>\n",
       "      <td>0</td>\n",
       "      <td>60.00</td>\n",
       "      <td>0</td>\n",
       "      <td>1</td>\n",
       "      <td>72.00</td>\n",
       "      <td>0</td>\n",
       "      <td>0</td>\n",
       "      <td>74.0</td>\n",
       "      <td>1</td>\n",
       "      <td>53.62</td>\n",
       "      <td>0</td>\n",
       "    </tr>\n",
       "    <tr>\n",
       "      <th>212</th>\n",
       "      <td>0</td>\n",
       "      <td>67.00</td>\n",
       "      <td>0</td>\n",
       "      <td>67.00</td>\n",
       "      <td>0</td>\n",
       "      <td>0</td>\n",
       "      <td>73.00</td>\n",
       "      <td>1</td>\n",
       "      <td>1</td>\n",
       "      <td>59.0</td>\n",
       "      <td>1</td>\n",
       "      <td>69.72</td>\n",
       "      <td>0</td>\n",
       "    </tr>\n",
       "    <tr>\n",
       "      <th>213</th>\n",
       "      <td>1</td>\n",
       "      <td>74.00</td>\n",
       "      <td>0</td>\n",
       "      <td>66.00</td>\n",
       "      <td>0</td>\n",
       "      <td>0</td>\n",
       "      <td>58.00</td>\n",
       "      <td>1</td>\n",
       "      <td>0</td>\n",
       "      <td>70.0</td>\n",
       "      <td>0</td>\n",
       "      <td>60.23</td>\n",
       "      <td>0</td>\n",
       "    </tr>\n",
       "    <tr>\n",
       "      <th>214</th>\n",
       "      <td>0</td>\n",
       "      <td>62.00</td>\n",
       "      <td>1</td>\n",
       "      <td>58.00</td>\n",
       "      <td>0</td>\n",
       "      <td>1</td>\n",
       "      <td>53.00</td>\n",
       "      <td>1</td>\n",
       "      <td>0</td>\n",
       "      <td>89.0</td>\n",
       "      <td>0</td>\n",
       "      <td>60.22</td>\n",
       "      <td>1</td>\n",
       "    </tr>\n",
       "  </tbody>\n",
       "</table>\n",
       "<p>215 rows × 13 columns</p>\n",
       "</div>"
      ],
      "text/plain": [
       "     gender  ssc_percentage  ssc_board  hsc_percentage  hsc_board  \\\n",
       "0         0           67.00          0           91.00          0   \n",
       "1         0           79.33          1           78.33          0   \n",
       "2         0           65.00          1           68.00          1   \n",
       "3         0           56.00          1           52.00          1   \n",
       "4         0           85.80          1           73.60          1   \n",
       "..      ...             ...        ...             ...        ...   \n",
       "210       0           80.60          0           82.00          0   \n",
       "211       0           58.00          0           60.00          0   \n",
       "212       0           67.00          0           67.00          0   \n",
       "213       1           74.00          0           66.00          0   \n",
       "214       0           62.00          1           58.00          0   \n",
       "\n",
       "     hsc_subject  degree_percentage  undergrad_degree  work_experience  \\\n",
       "0              0              58.00                 0                0   \n",
       "1              1              77.48                 0                1   \n",
       "2              2              64.00                 1                0   \n",
       "3              1              52.00                 0                0   \n",
       "4              0              73.30                 1                0   \n",
       "..           ...                ...               ...              ...   \n",
       "210            0              77.60                 1                0   \n",
       "211            1              72.00                 0                0   \n",
       "212            0              73.00                 1                1   \n",
       "213            0              58.00                 1                0   \n",
       "214            1              53.00                 1                0   \n",
       "\n",
       "     emp_test_percentage  specialisation  mba_percent  status  \n",
       "0                   55.0               0        58.80       0  \n",
       "1                   86.5               1        66.28       0  \n",
       "2                   75.0               1        57.80       0  \n",
       "3                   66.0               0        59.43       1  \n",
       "4                   96.8               1        55.50       0  \n",
       "..                   ...             ...          ...     ...  \n",
       "210                 91.0               1        74.49       0  \n",
       "211                 74.0               1        53.62       0  \n",
       "212                 59.0               1        69.72       0  \n",
       "213                 70.0               0        60.23       0  \n",
       "214                 89.0               0        60.22       1  \n",
       "\n",
       "[215 rows x 13 columns]"
      ]
     },
     "execution_count": 11,
     "metadata": {},
     "output_type": "execute_result"
    }
   ],
   "source": [
    "df = pd.read_csv('data_categorical.csv')\n",
    "df"
   ]
  },
  {
   "cell_type": "code",
   "execution_count": 12,
   "id": "4f4dde89-6295-4f7a-a7cc-588e21c8df5e",
   "metadata": {},
   "outputs": [],
   "source": [
    "#let's define a function to undersample variables\n",
    "def undersample(df, var):\n",
    "    max_len = min(df[var].value_counts())\n",
    "    sets = []\n",
    "    levels = df[var].unique()\n",
    "    for l in levels:\n",
    "        sets.append(df[df[var] == l].sample(n=max_len, replace=False))\n",
    "    return pd.concat(sets)"
   ]
  },
  {
   "cell_type": "code",
   "execution_count": 13,
   "id": "5b0bd9e5-b736-4ed3-80c5-8f2ca9ec7d70",
   "metadata": {},
   "outputs": [
    {
     "data": {
      "text/plain": [
       "0    76\n",
       "1    76\n",
       "Name: gender, dtype: int64"
      ]
     },
     "execution_count": 13,
     "metadata": {},
     "output_type": "execute_result"
    }
   ],
   "source": [
    "# undersample gender\n",
    "df = undersample(df, 'gender')\n",
    "df['gender'].value_counts()"
   ]
  },
  {
   "cell_type": "code",
   "execution_count": 14,
   "id": "200c01dd-2960-4af8-b2da-b9ffc92d6133",
   "metadata": {},
   "outputs": [
    {
     "data": {
      "text/plain": [
       "array([[<AxesSubplot: title={'center': 'gender'}>,\n",
       "        <AxesSubplot: title={'center': 'ssc_percentage'}>,\n",
       "        <AxesSubplot: title={'center': 'ssc_board'}>,\n",
       "        <AxesSubplot: title={'center': 'hsc_percentage'}>],\n",
       "       [<AxesSubplot: title={'center': 'hsc_board'}>,\n",
       "        <AxesSubplot: title={'center': 'hsc_subject'}>,\n",
       "        <AxesSubplot: title={'center': 'degree_percentage'}>,\n",
       "        <AxesSubplot: title={'center': 'undergrad_degree'}>],\n",
       "       [<AxesSubplot: title={'center': 'work_experience'}>,\n",
       "        <AxesSubplot: title={'center': 'emp_test_percentage'}>,\n",
       "        <AxesSubplot: title={'center': 'specialisation'}>,\n",
       "        <AxesSubplot: title={'center': 'mba_percent'}>],\n",
       "       [<AxesSubplot: title={'center': 'status'}>, <AxesSubplot: >,\n",
       "        <AxesSubplot: >, <AxesSubplot: >]], dtype=object)"
      ]
     },
     "execution_count": 14,
     "metadata": {},
     "output_type": "execute_result"
    },
    {
     "data": {
      "image/png": "[encoded data removed]",
      "text/plain": [
       "<Figure size 640x480 with 16 Axes>"
      ]
     },
     "metadata": {},
     "output_type": "display_data"
    }
   ],
   "source": [
    "# let's look at the histograms again\n",
    "df.hist()"
   ]
  },
  {
   "cell_type": "markdown",
   "id": "9bda65a0-209c-423f-ac2d-62efe2a8b35f",
   "metadata": {},
   "source": [
    "ssc_board looks a little skewed - let's inspect its actual values to see just how much"
   ]
  },
  {
   "cell_type": "code",
   "execution_count": 15,
   "id": "0a9f8196-8cf9-42c4-a0dc-7c27004c7ae7",
   "metadata": {},
   "outputs": [
    {
     "data": {
      "text/plain": [
       "1    86\n",
       "0    66\n",
       "Name: ssc_board, dtype: int64"
      ]
     },
     "execution_count": 15,
     "metadata": {},
     "output_type": "execute_result"
    }
   ],
   "source": [
    "df['ssc_board'].value_counts()"
   ]
  },
  {
   "cell_type": "markdown",
   "id": "dcefb5c2-d262-4601-a28d-a804397766ab",
   "metadata": {},
   "source": [
    "Not too bad; next let's inspect hsc_board."
   ]
  },
  {
   "cell_type": "code",
   "execution_count": 16,
   "id": "e6e1fb0f-08c7-4985-8020-3c9d2026be55",
   "metadata": {},
   "outputs": [
    {
     "data": {
      "text/plain": [
       "0    92\n",
       "1    60\n",
       "Name: hsc_board, dtype: int64"
      ]
     },
     "execution_count": 16,
     "metadata": {},
     "output_type": "execute_result"
    }
   ],
   "source": [
    "df['hsc_board'].value_counts()"
   ]
  },
  {
   "cell_type": "markdown",
   "id": "6bb7e081-2531-4bdc-b57b-e82ddc0be7da",
   "metadata": {},
   "source": [
    "Also not that bad, hsc_subject is very obviously skewed though. One of the categories seems to have a very small value, so undersampling might not be the approach here. Let's inspect:"
   ]
  },
  {
   "cell_type": "code",
   "execution_count": 17,
   "id": "e62007a4-044a-475e-95bc-7a3b7e756dd3",
   "metadata": {},
   "outputs": [
    {
     "data": {
      "text/plain": [
       "0    84\n",
       "1    58\n",
       "2    10\n",
       "Name: hsc_subject, dtype: int64"
      ]
     },
     "execution_count": 17,
     "metadata": {},
     "output_type": "execute_result"
    }
   ],
   "source": [
    "df['hsc_subject'].value_counts()"
   ]
  },
  {
   "cell_type": "markdown",
   "id": "2c375b99-0bcd-43be-bec7-f7c2a0244c4e",
   "metadata": {},
   "source": [
    "The smallest value is 9 - no way to undersample that without losing too much data. Looks like dropping '2' would be the best approach."
   ]
  },
  {
   "cell_type": "code",
   "execution_count": 18,
   "id": "2f32f500-2699-4511-807f-16f22b9db9d2",
   "metadata": {},
   "outputs": [
    {
     "data": {
      "text/plain": [
       "0    84\n",
       "1    58\n",
       "Name: hsc_subject, dtype: int64"
      ]
     },
     "execution_count": 18,
     "metadata": {},
     "output_type": "execute_result"
    }
   ],
   "source": [
    "df = df[df['hsc_subject'] != 2]\n",
    "df['hsc_subject'].value_counts()"
   ]
  },
  {
   "cell_type": "markdown",
   "id": "dffbaf86-0a9f-4b80-a1cc-2bd502c00c52",
   "metadata": {},
   "source": [
    "Inspect histogram again:"
   ]
  },
  {
   "cell_type": "code",
   "execution_count": 19,
   "id": "84ee95eb-2223-4b3c-b3e5-bef76936dbc9",
   "metadata": {},
   "outputs": [
    {
     "data": {
      "text/plain": [
       "array([[<AxesSubplot: title={'center': 'gender'}>,\n",
       "        <AxesSubplot: title={'center': 'ssc_percentage'}>,\n",
       "        <AxesSubplot: title={'center': 'ssc_board'}>,\n",
       "        <AxesSubplot: title={'center': 'hsc_percentage'}>],\n",
       "       [<AxesSubplot: title={'center': 'hsc_board'}>,\n",
       "        <AxesSubplot: title={'center': 'hsc_subject'}>,\n",
       "        <AxesSubplot: title={'center': 'degree_percentage'}>,\n",
       "        <AxesSubplot: title={'center': 'undergrad_degree'}>],\n",
       "       [<AxesSubplot: title={'center': 'work_experience'}>,\n",
       "        <AxesSubplot: title={'center': 'emp_test_percentage'}>,\n",
       "        <AxesSubplot: title={'center': 'specialisation'}>,\n",
       "        <AxesSubplot: title={'center': 'mba_percent'}>],\n",
       "       [<AxesSubplot: title={'center': 'status'}>, <AxesSubplot: >,\n",
       "        <AxesSubplot: >, <AxesSubplot: >]], dtype=object)"
      ]
     },
     "execution_count": 19,
     "metadata": {},
     "output_type": "execute_result"
    },
    {
     "data": {
      "image/png": "[encoded data removed]",
      "text/plain": [
       "<Figure size 640x480 with 16 Axes>"
      ]
     },
     "metadata": {},
     "output_type": "display_data"
    }
   ],
   "source": [
    "df.hist()"
   ]
  },
  {
   "cell_type": "markdown",
   "id": "fb5d3263-b845-457b-99bc-9517e2d7e08c",
   "metadata": {},
   "source": [
    "Looks like undergrad_degree is next."
   ]
  },
  {
   "cell_type": "code",
   "execution_count": 20,
   "id": "14aef6d6-6988-4f89-9090-285343668520",
   "metadata": {},
   "outputs": [
    {
     "data": {
      "text/plain": [
       "1    100\n",
       "0     38\n",
       "2      4\n",
       "Name: undergrad_degree, dtype: int64"
      ]
     },
     "execution_count": 20,
     "metadata": {},
     "output_type": "execute_result"
    }
   ],
   "source": [
    "df['undergrad_degree'].value_counts()"
   ]
  },
  {
   "cell_type": "markdown",
   "id": "45ddbec6-3545-4172-a08a-8896cf04e31d",
   "metadata": {},
   "source": [
    "Same issue as before: we drop '2'."
   ]
  },
  {
   "cell_type": "code",
   "execution_count": 21,
   "id": "47533e16-2087-44bd-9647-ef5eac7e18a5",
   "metadata": {},
   "outputs": [
    {
     "data": {
      "text/plain": [
       "array([[<AxesSubplot: title={'center': 'gender'}>,\n",
       "        <AxesSubplot: title={'center': 'ssc_percentage'}>,\n",
       "        <AxesSubplot: title={'center': 'ssc_board'}>,\n",
       "        <AxesSubplot: title={'center': 'hsc_percentage'}>],\n",
       "       [<AxesSubplot: title={'center': 'hsc_board'}>,\n",
       "        <AxesSubplot: title={'center': 'hsc_subject'}>,\n",
       "        <AxesSubplot: title={'center': 'degree_percentage'}>,\n",
       "        <AxesSubplot: title={'center': 'undergrad_degree'}>],\n",
       "       [<AxesSubplot: title={'center': 'work_experience'}>,\n",
       "        <AxesSubplot: title={'center': 'emp_test_percentage'}>,\n",
       "        <AxesSubplot: title={'center': 'specialisation'}>,\n",
       "        <AxesSubplot: title={'center': 'mba_percent'}>],\n",
       "       [<AxesSubplot: title={'center': 'status'}>, <AxesSubplot: >,\n",
       "        <AxesSubplot: >, <AxesSubplot: >]], dtype=object)"
      ]
     },
     "execution_count": 21,
     "metadata": {},
     "output_type": "execute_result"
    },
    {
     "data": {
      "image/png": "[encoded data removed]",
      "text/plain": [
       "<Figure size 640x480 with 16 Axes>"
      ]
     },
     "metadata": {},
     "output_type": "display_data"
    }
   ],
   "source": [
    "df = df[df['undergrad_degree'] != 2]\n",
    "df.hist()"
   ]
  },
  {
   "cell_type": "markdown",
   "id": "035a4e72-02b7-4489-9340-3eec3dc213de",
   "metadata": {},
   "source": [
    "The remaining variables look alright; they are slightly skewed, but if we continue to drop categories and keep undersampling, we won't be left with enough to construct reliable models."
   ]
  },
  {
   "cell_type": "markdown",
   "id": "47de9fe4-62d3-4d7e-9ec8-8f5d3709841e",
   "metadata": {},
   "source": [
    "<h2> Building the Model </h2>"
   ]
  },
  {
   "cell_type": "markdown",
   "id": "1b76e536-a3e8-4d9e-8787-0a86c3b9a462",
   "metadata": {},
   "source": [
    "It's pretty obvious that a decision tree classifier would be a good model to try, as most of the variables are categorical, with only some continuous variables. So let's try that first."
   ]
  },
  {
   "cell_type": "code",
   "execution_count": 22,
   "id": "9b1c1933-5655-498d-aaaf-2407f3c75730",
   "metadata": {},
   "outputs": [],
   "source": [
    "model = DecisionTreeClassifier()"
   ]
  },
  {
   "cell_type": "code",
   "execution_count": 23,
   "id": "4a5e466a-7a84-4b46-af95-0af634212893",
   "metadata": {},
   "outputs": [
    {
     "data": {
      "text/plain": [
       "0.8928571428571429"
      ]
     },
     "execution_count": 23,
     "metadata": {},
     "output_type": "execute_result"
    }
   ],
   "source": [
    "accuracy = -1\n",
    "for i in range(100):\n",
    "    x_train, x_test, y_train, y_test = train_test_split(df.drop('status', axis='columns'), df['status'], test_size=0.2)\n",
    "    model.fit(x_train, y_train)\n",
    "    predicted = model.predict(x_test)\n",
    "    cm = confusion_matrix(y_test, predicted)\n",
    "    score = (cm[0][0] + cm[1][1])/len(y_test)\n",
    "    if score > accuracy:\n",
    "        accuracy = score\n",
    "        \n",
    "accuracy # this will be the highest accuracy achieved from 100 models"
   ]
  },
  {
   "cell_type": "markdown",
   "id": "62b0c693-61e9-41c7-9167-71e390bfaef4",
   "metadata": {},
   "source": [
    "Using a decision tree classifier, this is pretty accurate. Let's save this model (for reference, the highest accuracy I observed out of the 100 models was ~93%):"
   ]
  },
  {
   "cell_type": "code",
   "execution_count": 24,
   "id": "04e9c036-b362-4b43-ae87-d3f6edeb37b7",
   "metadata": {},
   "outputs": [],
   "source": [
    "pickle.dump(model, open('final_model.sav', 'wb'))"
   ]
  }
 ],
 "metadata": {
  "kernelspec": {
   "display_name": "Python 3 (ipykernel)",
   "language": "python",
   "name": "python3"
  },
  "language_info": {
   "codemirror_mode": {
    "name": "ipython",
    "version": 3
   },
   "file_extension": ".py",
   "mimetype": "text/x-python",
   "name": "python",
   "nbconvert_exporter": "python",
   "pygments_lexer": "ipython3",
   "version": "3.9.13"
  }
 },
 "nbformat": 4,
 "nbformat_minor": 5
}
